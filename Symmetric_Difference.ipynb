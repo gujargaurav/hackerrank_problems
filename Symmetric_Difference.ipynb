{
  "nbformat": 4,
  "nbformat_minor": 0,
  "metadata": {
    "colab": {
      "name": "Symmetric Difference.ipynb",
      "provenance": [],
      "authorship_tag": "ABX9TyO5LOonAAAzgBhy96V8V7xd",
      "include_colab_link": true
    },
    "kernelspec": {
      "name": "python3",
      "display_name": "Python 3"
    }
  },
  "cells": [
    {
      "cell_type": "markdown",
      "metadata": {
        "id": "view-in-github",
        "colab_type": "text"
      },
      "source": [
        "<a href=\"https://colab.research.google.com/github/gujargaurav/hackerrank_problems/blob/main/Symmetric_Difference.ipynb\" target=\"_parent\"><img src=\"https://colab.research.google.com/assets/colab-badge.svg\" alt=\"Open In Colab\"/></a>"
      ]
    },
    {
      "cell_type": "markdown",
      "metadata": {
        "id": "oDBvY6dQwUxp"
      },
      "source": [
        "\r\n",
        "Symmetric Difference\r\n",
        "\r\n",
        "Task  \r\n",
        "Given  sets of integers,  and , print their symmetric difference in ascending order. The termsymmetric difference indicates those values that exist in either  or  but do not exist in both.\r\n",
        "\r\n",
        "Input Format\r\n",
        "\r\n",
        "The first line of input contains an integer, . The second line contains  space-separated integers. The third line contains an integer, . The fourth line contains  space-separated integers.\r\n",
        "\r\n",
        "Output Format\r\n",
        "\r\n",
        "Output the symmetric difference integers in ascending order, one per line.\r\n",
        "\r\n",
        "Sample Input\r\n",
        "\r\n",
        "42 4 5 9\r\n",
        "42 4 11 12\r\n",
        "\r\n",
        "Sample Output\r\n",
        "\r\n",
        "591112\r\n"
      ]
    },
    {
      "cell_type": "code",
      "metadata": {
        "colab": {
          "base_uri": "https://localhost:8080/"
        },
        "id": "EOYrk5hIJ2cR",
        "outputId": "c04899e8-cab2-4146-e704-46d5f6223556"
      },
      "source": [
        "# Enter your code here. Read input from STDIN. Print output to STDOUT\r\n",
        "a,b=(int(input()),input().split())\r\n",
        "c,d=(int(input()),input().split())\r\n",
        "x=set(b)\r\n",
        "y=set(d)\r\n",
        "p=y.difference(x)\r\n",
        "q=x.difference(y)\r\n",
        "r=p.union(q)\r\n",
        "print ('\\n'.join(sorted(r, key=int)))\r\n"
      ],
      "execution_count": 2,
      "outputs": [
        {
          "output_type": "stream",
          "text": [
            "4\n",
            "42 4 5 9\n",
            "4\n",
            "42 4 11 12\n",
            "5\n",
            "9\n",
            "11\n",
            "12\n"
          ],
          "name": "stdout"
        }
      ]
    },
    {
      "cell_type": "code",
      "metadata": {
        "id": "IcAFF4X3xK9j"
      },
      "source": [
        ""
      ],
      "execution_count": null,
      "outputs": []
    }
  ]
}