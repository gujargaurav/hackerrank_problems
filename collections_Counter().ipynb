{
  "nbformat": 4,
  "nbformat_minor": 0,
  "metadata": {
    "colab": {
      "name": "collections.Counter().ipynb",
      "provenance": [],
      "authorship_tag": "ABX9TyOlsZAYSSMp/48/QB0cGg3u",
      "include_colab_link": true
    },
    "kernelspec": {
      "name": "python3",
      "display_name": "Python 3"
    }
  },
  "cells": [
    {
      "cell_type": "markdown",
      "metadata": {
        "id": "view-in-github",
        "colab_type": "text"
      },
      "source": [
        "<a href=\"https://colab.research.google.com/github/gujargaurav/hackerrank_problems/blob/main/collections_Counter().ipynb\" target=\"_parent\"><img src=\"https://colab.research.google.com/assets/colab-badge.svg\" alt=\"Open In Colab\"/></a>"
      ]
    },
    {
      "cell_type": "markdown",
      "metadata": {
        "id": "SE56bSU2NtW2"
      },
      "source": [
        "# **collections.Counter()**\r\n",
        "A counter is a container that stores elements as dictionary keys, and their counts are stored as dictionary values.\r\n",
        "\r\n",
        "# **Task**\r\n",
        "\r\n",
        "Raghu is a shoe shop owner. His shop has number of shoes. He has a list containing the size of each shoe he has in his shop. There are number of customers who are willing to pay amount of money only if they get the shoe oftheir desired size.Your task is to compute how much money earned.\r\n",
        "\r\n",
        "# **Input Format**\r\n",
        "The first line contains , the number of shoes.\r\n",
        "The second line contains the space separated list of all the shoe sizes in the shop.\r\n",
        "The third line contains , the number of customers.\r\n",
        "The next lines contain the space separated values of the desired by the customer and , theprice of the shoe.\r\n",
        "\r\n",
        "# **Output Format**\r\n",
        "Print the amount of money earned by Raghu.\r\n",
        "# **Sample Input**\r\n",
        "10\r\n",
        "\r\n",
        "2 3 4 5 6 8 7 6 5 18\r\n",
        "\r\n",
        "6\r\n",
        "\r\n",
        "6 55\r\n",
        "\r\n",
        "6 45\r\n",
        "\r\n",
        "6 55\r\n",
        "\r\n",
        "4 40\r\n",
        "\r\n",
        "18 60\r\n",
        "\r\n",
        "10 50\r\n",
        "# **Sample Output**\r\n",
        "200\r\n",
        "\r\n",
        "# **Explanation **\r\n",
        "Customer 1: Purchased size 6 shoe for 55.\r\n",
        "\r\n",
        "Customer 2: Purchased size 6 shoe for 45. \r\n",
        "\r\n",
        "Customer 3: Size 6 no longer available, so no purchase. \r\n",
        "\r\n",
        "Customer 4: Purchased size 4 shoe for 40. \r\n",
        "\r\n",
        "Customer 5: Purchased size 18 shoe for 60. \r\n",
        "\r\n",
        "Customer 6: Size 10 not available, so no purchase\r\n",
        "\r\n"
      ]
    },
    {
      "cell_type": "code",
      "metadata": {
        "colab": {
          "base_uri": "https://localhost:8080/"
        },
        "id": "JrU7ZK8DNrUZ",
        "outputId": "5bdf88fb-43f6-49ec-d7ee-b41e5446a01a"
      },
      "source": [
        "# Enter your code here. Read input from STDIN. Print output to STDOUT\r\n",
        "from collections import Counter\r\n",
        "n = int(input())\r\n",
        "s = Counter(map(int,input().split()))\r\n",
        "x = int(input())\r\n",
        "total = []\r\n",
        "for i in range(x):\r\n",
        "    a,b = map(int,input().split())\r\n",
        "    if s[a] > 0:\r\n",
        "        total.append(b)\r\n",
        "        s.subtract(Counter([a]))\r\n",
        "    else:\r\n",
        "        pass\r\n",
        "\r\n",
        "print (sum(total))"
      ],
      "execution_count": 1,
      "outputs": [
        {
          "output_type": "stream",
          "text": [
            "10\n",
            "2 3 4 5 6 8 7 6 5 18\n",
            "6\n",
            "6 55\n",
            "6 45\n",
            "6 55\n",
            "4 40\n",
            "18 60\n",
            "10 50\n",
            "200\n"
          ],
          "name": "stdout"
        }
      ]
    },
    {
      "cell_type": "code",
      "metadata": {
        "id": "bYS-psvZO36i"
      },
      "source": [
        ""
      ],
      "execution_count": null,
      "outputs": []
    }
  ]
}