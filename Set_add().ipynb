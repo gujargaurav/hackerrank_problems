{
  "nbformat": 4,
  "nbformat_minor": 0,
  "metadata": {
    "colab": {
      "name": "Set .add().ipynb",
      "provenance": [],
      "authorship_tag": "ABX9TyPicuy90AMQMWmyyFsEW6A9",
      "include_colab_link": true
    },
    "kernelspec": {
      "name": "python3",
      "display_name": "Python 3"
    }
  },
  "cells": [
    {
      "cell_type": "markdown",
      "metadata": {
        "id": "view-in-github",
        "colab_type": "text"
      },
      "source": [
        "<a href=\"https://colab.research.google.com/github/gujargaurav/hackerrank_problems/blob/main/Set_add().ipynb\" target=\"_parent\"><img src=\"https://colab.research.google.com/assets/colab-badge.svg\" alt=\"Open In Colab\"/></a>"
      ]
    },
    {
      "cell_type": "markdown",
      "metadata": {
        "id": "nLSuoTXuS-M4"
      },
      "source": [
        "# **Set .add()**\r\n",
        "If we want to add a single element to an existing set, we can use the .add() operation. It adds the element to the set and returns 'None'.\r\n",
        "\r\n",
        "Example\r\n",
        "\r\n",
        ">>> s = set('HackerRank')>>> s.add('H')\r\n",
        "\r\n",
        ">>> print sset(['a', 'c', 'e', 'H', 'k', 'n', 'r', 'R'])\r\n",
        "\r\n",
        ">>> print s.add('HackerRank')None\r\n",
        "\r\n",
        ">>> print sset(['a', 'c', 'e', 'HackerRank', 'H', 'k', 'n', 'r', 'R'])\r\n",
        "\r\n",
        "Task\r\n",
        "\r\n",
        "Apply your knowledge of the .add() operation to help your friend Rupal.Rupal has a huge collection of country stamps. She decided to count the total number of distinct countrystamps in her collection. She asked for your help. You pick the stamps one by one from a stack of  countrystamps.Find the total number of distinct country stamps.\r\n",
        "\r\n",
        "Input Format\r\n",
        "\r\n",
        "The first line contains an integer , the total number of country stamps.The next  lines contains the name of the country where the stamp is from. \r\n",
        "\r\n",
        "Output Format\r\n",
        "\r\n",
        "Output the total number of distinct country stamps on a single line.\r\n",
        "\r\n",
        "Sample Input\r\n",
        "\r\n",
        "7\r\n",
        "\r\n",
        "UK\r\n",
        "\r\n",
        "China\r\n",
        "USA\r\n",
        "France\r\n",
        "New Zealand\r\n",
        "\r\n",
        "UK\r\n",
        "\r\n",
        "France\r\n",
        "\r\n",
        "Sample Output\r\n",
        "\r\n",
        "5\r\n",
        "\r\n",
        "Explanation\r\n",
        "\r\n",
        "\r\n",
        "UK and France repeat twice. Hence, the total number of distinct country stamps is  (five)."
      ]
    },
    {
      "cell_type": "code",
      "metadata": {
        "colab": {
          "base_uri": "https://localhost:8080/"
        },
        "id": "HYS64hZRS89o",
        "outputId": "63d69f73-ff0a-4625-e038-056b7f329767"
      },
      "source": [
        "N = int(input())\r\n",
        "s = set()\r\n",
        "for i in range(0,N):\r\n",
        "    s.add(input())\r\n",
        "print(len(s))    \r\n"
      ],
      "execution_count": 1,
      "outputs": [
        {
          "output_type": "stream",
          "text": [
            "7\n",
            "UK\n",
            "China\n",
            "USA\n",
            "France\n",
            "New zeland\n",
            "UK\n",
            "France\n",
            "5\n"
          ],
          "name": "stdout"
        }
      ]
    }
  ]
}