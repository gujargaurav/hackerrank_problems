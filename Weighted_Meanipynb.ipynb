{
  "nbformat": 4,
  "nbformat_minor": 0,
  "metadata": {
    "colab": {
      "name": "Weighted Meanipynb",
      "provenance": [],
      "authorship_tag": "ABX9TyOblnQ4UoxPBVrdhgryB3UV",
      "include_colab_link": true
    },
    "kernelspec": {
      "name": "python3",
      "display_name": "Python 3"
    }
  },
  "cells": [
    {
      "cell_type": "markdown",
      "metadata": {
        "id": "view-in-github",
        "colab_type": "text"
      },
      "source": [
        "<a href=\"https://colab.research.google.com/github/gujargaurav/hackerrank_problems/blob/main/Weighted_Meanipynb.ipynb\" target=\"_parent\"><img src=\"https://colab.research.google.com/assets/colab-badge.svg\" alt=\"Open In Colab\"/></a>"
      ]
    },
    {
      "cell_type": "markdown",
      "metadata": {
        "id": "456EgqMtn10f"
      },
      "source": [
        "# **Objective**\r\n",
        "In the previous challenge, we calculated a mean. In this challenge, we practice calculating a weighted mean.\r\n",
        "# **Task**\r\n",
        "Given an array, , of integers and an array, , representing the respective weights of 's elements,calculate and print the weighted mean of 's elements. Your answer should be rounded to a scale of decimal place (i.e., format).\r\n",
        "\r\n",
        "# **Input Format**\r\n",
        "The first line contains an integer, , denoting the number of elements in arrays and . The second line contains space-separated integers describing the respective elements of array . The third line contains space-separated integers describing the respective elements of array .Constraints, where is the element of array ., where is the element of array .\r\n",
        "# **Output Format**\r\n",
        "Print the weighted mean on a new line. Your answer should be rounded to a scale of decimal place (i.e., format).\r\n",
        "# **Sample Input**\r\n",
        "**5**\r\n",
        "\r\n",
        "**10 40 30 50 20**\r\n",
        "\r\n",
        "**1 2 3 4 5**\r\n",
        "\r\n",
        "# **Sample Output**\r\n",
        "**32.0**\r\n",
        "\r\n",
        "\r\n"
      ]
    },
    {
      "cell_type": "code",
      "metadata": {
        "colab": {
          "base_uri": "https://localhost:8080/"
        },
        "id": "H9Bo3Q5vny8g",
        "outputId": "616a46f7-b803-49f9-db6a-2b0c7fb46a77"
      },
      "source": [
        "def weightedsum(weight,value):\r\n",
        "    numerator = sum([weight[i]*value[i] for i in range( len(value))])\r\n",
        "    denominator = sum(weight)\r\n",
        "    return round(numerator/denominator,1)\r\n",
        "N = int(input())\r\n",
        "value = list(map(int,input().split()))\r\n",
        "weight = list(map(int,input().split()))\r\n",
        "print(weightedsum(weight,value))"
      ],
      "execution_count": 1,
      "outputs": [
        {
          "output_type": "stream",
          "text": [
            "5\n",
            "10 40 30 50 20\n",
            "1 2 3 4 5\n",
            "32.0\n"
          ],
          "name": "stdout"
        }
      ]
    }
  ]
}